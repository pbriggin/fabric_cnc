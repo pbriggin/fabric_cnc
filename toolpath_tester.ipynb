{
 "cells": [
  {
   "cell_type": "code",
   "execution_count": 1,
   "id": "fb87f822",
   "metadata": {},
   "outputs": [],
   "source": [
    "import toolpath_generator_drag as tgd\n",
    "\n",
    "point_dictionary = {\n",
    "    \"octagon\": [\n",
    "        (8.0000, 5.0000),\n",
    "        (7.1213, 7.1213),\n",
    "        (5.0000, 8.0000),\n",
    "        (2.8787, 7.1213),\n",
    "        (2.0000, 5.0000),\n",
    "        (2.8787, 2.8787),\n",
    "        (5.0000, 2.0000),\n",
    "        (7.1213, 2.8787),\n",
    "    ]\n",
    "}\n",
    "\n",
    "gen = tgd.ToolpathGenerator()\n",
    "gcode = gen.generate_toolpath(point_dictionary=point_dictionary)\n",
    "\n",
    "with open(\"test.gcode\", \"w\", encoding=\"utf-8\") as f:\n",
    "    f.write(gcode)\n"
   ]
  }
 ],
 "metadata": {
  "kernelspec": {
   "display_name": "Python 3",
   "language": "python",
   "name": "python3"
  },
  "language_info": {
   "codemirror_mode": {
    "name": "ipython",
    "version": 3
   },
   "file_extension": ".py",
   "mimetype": "text/x-python",
   "name": "python",
   "nbconvert_exporter": "python",
   "pygments_lexer": "ipython3",
   "version": "3.13.5"
  }
 },
 "nbformat": 4,
 "nbformat_minor": 5
}
